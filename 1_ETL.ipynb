{
 "cells": [
  {
   "cell_type": "markdown",
   "metadata": {},
   "source": [
    "# PROCESO DE ETL \n",
    "\n",
    "## CONSIDERACIONES GENERALES\n",
    "\n",
    "Se desea preparar un conjunto de datos \"limpio\" para iniciar el proceso de análisis exploratorio. Como consideración fundamental, se deben conservar la cantidad de registros originales durante las transformaciones. Es decir, no se deben eliminar registros debido a la falta de información sus campos (a exepción de duplicados). El objetivo principal es contar la totalidad de eventos ocurridos.\n",
    "\n"
   ]
  },
  {
   "cell_type": "markdown",
   "metadata": {},
   "source": [
    "## Carga de datos"
   ]
  },
  {
   "cell_type": "code",
   "execution_count": 82,
   "metadata": {},
   "outputs": [],
   "source": [
    "import pandas as pd\n",
    "import numpy as np\n",
    "import os\n",
    "\n",
    "# Directorio donde se encuentra el archivo Excel\n",
    "directorio = '_src/data/'\n",
    "# Nombre del archivo Excel\n",
    "archivo_excel = 'homicidios.xlsx'\n",
    "# Ruta completa al archivo Excel\n",
    "ruta_excel = os.path.join(directorio, archivo_excel)\n",
    "\n",
    "# Leer la solapa 'HECHOS' del archivo Excel\n",
    "datos_hechos = pd.read_excel(ruta_excel, sheet_name='HECHOS')\n",
    "\n",
    "# Leer la solapa 'VICTIMAS' del archivo Excel\n",
    "datos_victimas = pd.read_excel(ruta_excel, sheet_name='VICTIMAS')\n"
   ]
  },
  {
   "cell_type": "markdown",
   "metadata": {},
   "source": [
    "## Dataset 'Hechos'\n",
    "\n",
    "Se comienza el proceso de limpieza sobre esta base de datos."
   ]
  },
  {
   "cell_type": "code",
   "execution_count": 83,
   "metadata": {},
   "outputs": [
    {
     "name": "stdout",
     "output_type": "stream",
     "text": [
      "<class 'pandas.core.frame.DataFrame'>\n",
      "RangeIndex: 696 entries, 0 to 695\n",
      "Data columns (total 21 columns):\n",
      " #   Column                 Non-Null Count  Dtype         \n",
      "---  ------                 --------------  -----         \n",
      " 0   ID                     696 non-null    object        \n",
      " 1   N_VICTIMAS             696 non-null    int64         \n",
      " 2   FECHA                  696 non-null    datetime64[ns]\n",
      " 3   AAAA                   696 non-null    int64         \n",
      " 4   MM                     696 non-null    int64         \n",
      " 5   DD                     696 non-null    int64         \n",
      " 6   HORA                   696 non-null    object        \n",
      " 7   HH                     696 non-null    object        \n",
      " 8   LUGAR_DEL_HECHO        696 non-null    object        \n",
      " 9   TIPO_DE_CALLE          696 non-null    object        \n",
      " 10  Calle                  695 non-null    object        \n",
      " 11  Altura                 129 non-null    float64       \n",
      " 12  Cruce                  525 non-null    object        \n",
      " 13  Dirección Normalizada  688 non-null    object        \n",
      " 14  COMUNA                 696 non-null    int64         \n",
      " 15  XY (CABA)              696 non-null    object        \n",
      " 16  pos x                  696 non-null    object        \n",
      " 17  pos y                  696 non-null    object        \n",
      " 18  PARTICIPANTES          696 non-null    object        \n",
      " 19  VICTIMA                696 non-null    object        \n",
      " 20  ACUSADO                696 non-null    object        \n",
      "dtypes: datetime64[ns](1), float64(1), int64(5), object(14)\n",
      "memory usage: 114.3+ KB\n"
     ]
    }
   ],
   "source": [
    "datos_hechos.info()"
   ]
  },
  {
   "cell_type": "markdown",
   "metadata": {},
   "source": [
    "## Eliminar datos \n",
    "\n",
    "Se eliminan aquellas columnas que son redundantes según mi análisis, o que no serán tenidas en cuenta para la exploración de datos. "
   ]
  },
  {
   "cell_type": "code",
   "execution_count": 84,
   "metadata": {},
   "outputs": [],
   "source": [
    "# Lista de columnas a eliminar\n",
    "columnas_a_eliminar = ['HORA', 'LUGAR_DEL_HECHO', 'Altura', 'Cruce', 'XY (CABA)','PARTICIPANTES']\n",
    "\n",
    "# Eliminar las columnas especificadas\n",
    "datos_hechos = datos_hechos.drop(columnas_a_eliminar, axis=1)"
   ]
  },
  {
   "cell_type": "markdown",
   "metadata": {},
   "source": [
    "## Verificar tipo de datos\n",
    "\n",
    "Se convirten los diferentes campos al tipo de datos correspondiente y se reemplazan los datos nulos por valores NaN. "
   ]
  },
  {
   "cell_type": "code",
   "execution_count": 85,
   "metadata": {},
   "outputs": [
    {
     "name": "stdout",
     "output_type": "stream",
     "text": [
      "Valores NaN en las columnas convertidas:\n",
      "N_VICTIMAS     0\n",
      "AAAA           0\n",
      "MM             0\n",
      "DD             0\n",
      "HH             1\n",
      "pos x         12\n",
      "pos y         12\n",
      "COMUNA         0\n",
      "dtype: int64\n"
     ]
    }
   ],
   "source": [
    "# Convertir todas las columnas especificadas a tipo numérico\n",
    "columnas_numericas = ['N_VICTIMAS', 'AAAA', 'MM', 'DD', 'HH', 'pos x', 'pos y', 'COMUNA']\n",
    "datos_hechos[columnas_numericas] = datos_hechos[columnas_numericas].apply(pd.to_numeric, errors='coerce')\n",
    "\n",
    "# Contar los valores NaN en las columnas convertidas\n",
    "valores_nulos = datos_hechos[columnas_numericas].isnull().sum()\n",
    "\n",
    "# Mostrar los valores NaN encontrados en cada columna\n",
    "print(\"Valores NaN en las columnas convertidas:\")\n",
    "print(valores_nulos)"
   ]
  },
  {
   "cell_type": "code",
   "execution_count": 86,
   "metadata": {},
   "outputs": [
    {
     "data": {
      "text/html": [
       "<div>\n",
       "<style scoped>\n",
       "    .dataframe tbody tr th:only-of-type {\n",
       "        vertical-align: middle;\n",
       "    }\n",
       "\n",
       "    .dataframe tbody tr th {\n",
       "        vertical-align: top;\n",
       "    }\n",
       "\n",
       "    .dataframe thead th {\n",
       "        text-align: right;\n",
       "    }\n",
       "</style>\n",
       "<table border=\"1\" class=\"dataframe\">\n",
       "  <thead>\n",
       "    <tr style=\"text-align: right;\">\n",
       "      <th></th>\n",
       "      <th>ID</th>\n",
       "      <th>N_VICTIMAS</th>\n",
       "      <th>FECHA</th>\n",
       "      <th>AAAA</th>\n",
       "      <th>MM</th>\n",
       "      <th>DD</th>\n",
       "      <th>HH</th>\n",
       "      <th>TIPO_DE_CALLE</th>\n",
       "      <th>Calle</th>\n",
       "      <th>Dirección Normalizada</th>\n",
       "      <th>COMUNA</th>\n",
       "      <th>pos x</th>\n",
       "      <th>pos y</th>\n",
       "      <th>VICTIMA</th>\n",
       "      <th>ACUSADO</th>\n",
       "    </tr>\n",
       "  </thead>\n",
       "  <tbody>\n",
       "    <tr>\n",
       "      <th>0</th>\n",
       "      <td>2016-0001</td>\n",
       "      <td>1</td>\n",
       "      <td>2016-01-01</td>\n",
       "      <td>2016</td>\n",
       "      <td>1</td>\n",
       "      <td>1</td>\n",
       "      <td>4.0</td>\n",
       "      <td>AVENIDA</td>\n",
       "      <td>PIEDRA BUENA AV.</td>\n",
       "      <td>PIEDRA BUENA AV. y FERNANDEZ DE LA CRUZ, F., G...</td>\n",
       "      <td>8</td>\n",
       "      <td>-58.475340</td>\n",
       "      <td>-34.687570</td>\n",
       "      <td>MOTO</td>\n",
       "      <td>AUTO</td>\n",
       "    </tr>\n",
       "    <tr>\n",
       "      <th>1</th>\n",
       "      <td>2016-0002</td>\n",
       "      <td>1</td>\n",
       "      <td>2016-01-02</td>\n",
       "      <td>2016</td>\n",
       "      <td>1</td>\n",
       "      <td>2</td>\n",
       "      <td>1.0</td>\n",
       "      <td>GRAL PAZ</td>\n",
       "      <td>PAZ, GRAL. AV.</td>\n",
       "      <td>PAZ, GRAL. AV. y DE LOS CORRALES AV.</td>\n",
       "      <td>9</td>\n",
       "      <td>-58.508775</td>\n",
       "      <td>-34.669777</td>\n",
       "      <td>AUTO</td>\n",
       "      <td>PASAJEROS</td>\n",
       "    </tr>\n",
       "    <tr>\n",
       "      <th>2</th>\n",
       "      <td>2016-0003</td>\n",
       "      <td>1</td>\n",
       "      <td>2016-01-03</td>\n",
       "      <td>2016</td>\n",
       "      <td>1</td>\n",
       "      <td>3</td>\n",
       "      <td>7.0</td>\n",
       "      <td>AVENIDA</td>\n",
       "      <td>ENTRE RIOS AV.</td>\n",
       "      <td>ENTRE RIOS AV. 2034</td>\n",
       "      <td>1</td>\n",
       "      <td>-58.390403</td>\n",
       "      <td>-34.631894</td>\n",
       "      <td>MOTO</td>\n",
       "      <td>AUTO</td>\n",
       "    </tr>\n",
       "    <tr>\n",
       "      <th>3</th>\n",
       "      <td>2016-0004</td>\n",
       "      <td>1</td>\n",
       "      <td>2016-01-10</td>\n",
       "      <td>2016</td>\n",
       "      <td>1</td>\n",
       "      <td>10</td>\n",
       "      <td>0.0</td>\n",
       "      <td>AVENIDA</td>\n",
       "      <td>LARRAZABAL AV.</td>\n",
       "      <td>LARRAZABAL AV. y VILLEGAS, CONRADO, GRAL.</td>\n",
       "      <td>8</td>\n",
       "      <td>-58.465039</td>\n",
       "      <td>-34.680930</td>\n",
       "      <td>MOTO</td>\n",
       "      <td>SD</td>\n",
       "    </tr>\n",
       "    <tr>\n",
       "      <th>4</th>\n",
       "      <td>2016-0005</td>\n",
       "      <td>1</td>\n",
       "      <td>2016-01-21</td>\n",
       "      <td>2016</td>\n",
       "      <td>1</td>\n",
       "      <td>21</td>\n",
       "      <td>5.0</td>\n",
       "      <td>AVENIDA</td>\n",
       "      <td>SAN JUAN AV.</td>\n",
       "      <td>SAN JUAN AV. y SAENZ PEÃ‘A, LUIS, PRES.</td>\n",
       "      <td>1</td>\n",
       "      <td>-58.387183</td>\n",
       "      <td>-34.622466</td>\n",
       "      <td>MOTO</td>\n",
       "      <td>PASAJEROS</td>\n",
       "    </tr>\n",
       "  </tbody>\n",
       "</table>\n",
       "</div>"
      ],
      "text/plain": [
       "          ID  N_VICTIMAS      FECHA  AAAA  MM  DD   HH TIPO_DE_CALLE  \\\n",
       "0  2016-0001           1 2016-01-01  2016   1   1  4.0       AVENIDA   \n",
       "1  2016-0002           1 2016-01-02  2016   1   2  1.0      GRAL PAZ   \n",
       "2  2016-0003           1 2016-01-03  2016   1   3  7.0       AVENIDA   \n",
       "3  2016-0004           1 2016-01-10  2016   1  10  0.0       AVENIDA   \n",
       "4  2016-0005           1 2016-01-21  2016   1  21  5.0       AVENIDA   \n",
       "\n",
       "              Calle                              Dirección Normalizada  \\\n",
       "0  PIEDRA BUENA AV.  PIEDRA BUENA AV. y FERNANDEZ DE LA CRUZ, F., G...   \n",
       "1    PAZ, GRAL. AV.               PAZ, GRAL. AV. y DE LOS CORRALES AV.   \n",
       "2    ENTRE RIOS AV.                                ENTRE RIOS AV. 2034   \n",
       "3    LARRAZABAL AV.          LARRAZABAL AV. y VILLEGAS, CONRADO, GRAL.   \n",
       "4      SAN JUAN AV.            SAN JUAN AV. y SAENZ PEÃ‘A, LUIS, PRES.   \n",
       "\n",
       "   COMUNA      pos x      pos y VICTIMA    ACUSADO  \n",
       "0       8 -58.475340 -34.687570    MOTO       AUTO  \n",
       "1       9 -58.508775 -34.669777    AUTO  PASAJEROS  \n",
       "2       1 -58.390403 -34.631894    MOTO       AUTO  \n",
       "3       8 -58.465039 -34.680930    MOTO         SD  \n",
       "4       1 -58.387183 -34.622466    MOTO  PASAJEROS  "
      ]
     },
     "execution_count": 86,
     "metadata": {},
     "output_type": "execute_result"
    }
   ],
   "source": [
    "datos_hechos.head()"
   ]
  },
  {
   "cell_type": "code",
   "execution_count": 87,
   "metadata": {},
   "outputs": [
    {
     "name": "stdout",
     "output_type": "stream",
     "text": [
      "Valores NaN en las columnas convertidas:\n",
      "0\n"
     ]
    }
   ],
   "source": [
    "# Verificar si los datos en la columna 'FECHA' son todos en formato de fecha\n",
    "datos_hechos['FECHA'] = pd.to_datetime(datos_hechos['FECHA'], errors='coerce')\n",
    "\n",
    "# Contar los valores NaN en las columnas convertidas\n",
    "valores_nulos = datos_hechos['FECHA'].isnull().sum()\n",
    "\n",
    "# Mostrar los valores NaN encontrados en cada columna\n",
    "print(\"Valores NaN en las columnas convertidas:\")\n",
    "print(valores_nulos)"
   ]
  },
  {
   "cell_type": "code",
   "execution_count": 88,
   "metadata": {},
   "outputs": [],
   "source": [
    "# Reemplazar los registros vacíos por NaN en las columnas 'calle' y 'direccion normalizada'\n",
    "datos_hechos['Calle'] = datos_hechos['Calle'].replace('', np.nan)\n",
    "datos_hechos['Dirección Normalizada'] = datos_hechos['Dirección Normalizada'].replace('', np.nan)\n"
   ]
  },
  {
   "cell_type": "code",
   "execution_count": 89,
   "metadata": {},
   "outputs": [],
   "source": [
    "# Reemplazar los valores 'SD' por NaN en las columnas 'VICTIMA' y 'ACUSADO'\n",
    "datos_hechos['VICTIMA'] = datos_hechos['VICTIMA'].replace('SD', np.nan)\n",
    "datos_hechos['ACUSADO'] = datos_hechos['ACUSADO'].replace('SD', np.nan)\n"
   ]
  },
  {
   "cell_type": "code",
   "execution_count": 90,
   "metadata": {},
   "outputs": [],
   "source": [
    "# Reemplazar los valores 0 por NaN en la columna 'COMUNA'\n",
    "datos_hechos['COMUNA'] = datos_hechos['COMUNA'].replace(0, np.nan)"
   ]
  },
  {
   "cell_type": "markdown",
   "metadata": {},
   "source": [
    "## Agregado de nombre a la variable categórica COMUNA\n",
    "\n",
    "Fuente: https://www.argentina.gob.ar/caba/comunas"
   ]
  },
  {
   "cell_type": "code",
   "execution_count": 91,
   "metadata": {},
   "outputs": [],
   "source": [
    "comunas_dict = {\n",
    "    1: 'Retiro, San Nicolás, Puerto Madero, San Telmo, Monserrat, Constitución',\n",
    "    2: 'Recoleta',\n",
    "    3: 'San Cristóbal, Balvanera',\n",
    "    4: 'Barracas, La Boca',\n",
    "    5: 'Almagro, Boedo',\n",
    "    6: 'Caballito',\n",
    "    7: 'Flores, Parque Chacabuco',\n",
    "    8: 'Villa Soldati, Villa Riachuelo, Villa Lugano',\n",
    "    9: 'Liniers, Mataderos, Parque Avellaneda',\n",
    "    10: 'Villa Real, Monte Castro, Versalles, Floresta, Vélez Sársfield, Villa Luro',\n",
    "    11: 'Villa General Mitre, Villa Devoto, Villa del Parque, Villa Santa Rita',\n",
    "    12: 'Coghlan, Saavedra, Villa Urquiza, Villa Pueyrredón',\n",
    "    13: 'Núñez, Belgrano, Colegiales',\n",
    "    14: 'Palermo',\n",
    "    15: 'Chacarita, Villa Crespo, La Paternal, Villa Ortúzar, Agronomía, Parque Chas'\n",
    "}\n",
    "\n",
    "datos_hechos['COMUNA_NOMBRE'] = datos_hechos['COMUNA'].map(comunas_dict)\n"
   ]
  },
  {
   "cell_type": "markdown",
   "metadata": {},
   "source": [
    "## Agregado de población por comuna\n",
    "\n",
    "Se agregar el valor de población por comuna de CABA, que se utilizará para el cálculo deL KPI solicitado, y además para el análisis de correlación con otras variables.\n",
    "\n",
    "Se toma información del censo 2022, y se establece igual valor de población para todos los años de estudio.\n",
    "\n",
    "\n",
    "Fuente: https://es.wikipedia.org/wiki/Anexo:Comunas_de_la_ciudad_de_Buenos_Aires_por_poblaci%C3%B3n"
   ]
  },
  {
   "cell_type": "code",
   "execution_count": 92,
   "metadata": {},
   "outputs": [],
   "source": [
    "comunas_dict = {\n",
    "    1: 223282,\n",
    "    2: 158368,\n",
    "    3: 236294,\n",
    "    4: 230945,\n",
    "    5: 193859,\n",
    "    6: 203784,\n",
    "    7: 216832,\n",
    "    8: 204842,\n",
    "    9: 169538,\n",
    "    10: 171797,\n",
    "    11: 203491,\n",
    "    12: 236294,\n",
    "    13: 265199,\n",
    "    14: 249016,\n",
    "    15: 197903\n",
    "}\n",
    "\n",
    "datos_hechos['COMUNA_POB'] = datos_hechos['COMUNA'].map(comunas_dict)"
   ]
  },
  {
   "cell_type": "markdown",
   "metadata": {},
   "source": [
    "## Agregado día de semana\n",
    "\n",
    "Se incorpora al dataset la identificación del día de la semana correspondiente a la fecha del accidente."
   ]
  },
  {
   "cell_type": "code",
   "execution_count": 93,
   "metadata": {},
   "outputs": [],
   "source": [
    "# Crear una nueva columna con el día de la semana en valor numérico (0 para lunes, 1 para martes, etc.)\n",
    "datos_hechos['DIA_SEMANA_NUM'] = datos_hechos['FECHA'].dt.dayofweek\n",
    "\n"
   ]
  },
  {
   "cell_type": "code",
   "execution_count": 94,
   "metadata": {},
   "outputs": [
    {
     "name": "stdout",
     "output_type": "stream",
     "text": [
      "            ID  N_VICTIMAS      FECHA  AAAA  MM  DD    HH TIPO_DE_CALLE  \\\n",
      "0    2016-0001           1 2016-01-01  2016   1   1   4.0       AVENIDA   \n",
      "1    2016-0002           1 2016-01-02  2016   1   2   1.0      GRAL PAZ   \n",
      "2    2016-0003           1 2016-01-03  2016   1   3   7.0       AVENIDA   \n",
      "3    2016-0004           1 2016-01-10  2016   1  10   0.0       AVENIDA   \n",
      "4    2016-0005           1 2016-01-21  2016   1  21   5.0       AVENIDA   \n",
      "..         ...         ...        ...   ...  ..  ..   ...           ...   \n",
      "691  2021-0093           1 2021-12-13  2021  12  13  17.0       AVENIDA   \n",
      "692  2021-0094           1 2021-12-20  2021  12  20   1.0     AUTOPISTA   \n",
      "693  2021-0095           1 2021-12-30  2021  12  30   0.0       AVENIDA   \n",
      "694  2021-0096           1 2021-12-15  2021  12  15  10.0       AVENIDA   \n",
      "695  2021-0097           1 2021-11-18  2021  11  18   6.0         CALLE   \n",
      "\n",
      "                            Calle  \\\n",
      "0                PIEDRA BUENA AV.   \n",
      "1                  PAZ, GRAL. AV.   \n",
      "2                  ENTRE RIOS AV.   \n",
      "3                  LARRAZABAL AV.   \n",
      "4                    SAN JUAN AV.   \n",
      "..                            ...   \n",
      "691                   RIESTRA AV.   \n",
      "692  DELLEPIANE, LUIS, TTE. GRAL.   \n",
      "693                     GAONA AV.   \n",
      "694                PERON, EVA AV.   \n",
      "695           PADRE CARLOS MUJICA   \n",
      "\n",
      "                                 Dirección Normalizada  COMUNA      pos x  \\\n",
      "0    PIEDRA BUENA AV. y FERNANDEZ DE LA CRUZ, F., G...     8.0 -58.475340   \n",
      "1                 PAZ, GRAL. AV. y DE LOS CORRALES AV.     9.0 -58.508775   \n",
      "2                                  ENTRE RIOS AV. 2034     1.0 -58.390403   \n",
      "3            LARRAZABAL AV. y VILLEGAS, CONRADO, GRAL.     8.0 -58.465039   \n",
      "4              SAN JUAN AV. y SAENZ PEÃ‘A, LUIS, PRES.     1.0 -58.387183   \n",
      "..                                                 ...     ...        ...   \n",
      "691                                  RIESTRA AV. y MOM     7.0 -58.433538   \n",
      "692         DELLEPIANE, LUIS, TTE. GRAL. y LACARRA AV.     9.0 -58.467398   \n",
      "693                                GAONA AV. y TERRADA    11.0 -58.472934   \n",
      "694                                PERON, EVA AV. 4071     9.0 -58.470668   \n",
      "695                            PADRE CARLOS MUGICA 709     1.0 -58.379762   \n",
      "\n",
      "         pos y    VICTIMA    ACUSADO  \\\n",
      "0   -34.687570       MOTO       AUTO   \n",
      "1   -34.669777       AUTO  PASAJEROS   \n",
      "2   -34.631894       MOTO       AUTO   \n",
      "3   -34.680930       MOTO        NaN   \n",
      "4   -34.622466       MOTO  PASAJEROS   \n",
      "..         ...        ...        ...   \n",
      "691 -34.645616       MOTO       AUTO   \n",
      "692 -34.651178       MOTO       AUTO   \n",
      "693 -34.619847       MOTO     CARGAS   \n",
      "694 -34.650217       AUTO     CARGAS   \n",
      "695 -34.586796  BICICLETA       AUTO   \n",
      "\n",
      "                                         COMUNA_NOMBRE  COMUNA_POB  \\\n",
      "0         Villa Soldati, Villa Riachuelo, Villa Lugano    204842.0   \n",
      "1                Liniers, Mataderos, Parque Avellaneda    169538.0   \n",
      "2    Retiro, San Nicolás, Puerto Madero, San Telmo,...    223282.0   \n",
      "3         Villa Soldati, Villa Riachuelo, Villa Lugano    204842.0   \n",
      "4    Retiro, San Nicolás, Puerto Madero, San Telmo,...    223282.0   \n",
      "..                                                 ...         ...   \n",
      "691                           Flores, Parque Chacabuco    216832.0   \n",
      "692              Liniers, Mataderos, Parque Avellaneda    169538.0   \n",
      "693  Villa General Mitre, Villa Devoto, Villa del P...    203491.0   \n",
      "694              Liniers, Mataderos, Parque Avellaneda    169538.0   \n",
      "695  Retiro, San Nicolás, Puerto Madero, San Telmo,...    223282.0   \n",
      "\n",
      "     DIA_SEMANA_NUM DIA_SEMANA_STR  \n",
      "0                 4        Viernes  \n",
      "1                 5         Sábado  \n",
      "2                 6        Domingo  \n",
      "3                 6        Domingo  \n",
      "4                 3         Jueves  \n",
      "..              ...            ...  \n",
      "691               0          Lunes  \n",
      "692               0          Lunes  \n",
      "693               3         Jueves  \n",
      "694               2      Miércoles  \n",
      "695               3         Jueves  \n",
      "\n",
      "[696 rows x 19 columns]\n"
     ]
    }
   ],
   "source": [
    "# Diccionario para mapear los números de los días de la semana a los nombres en español\n",
    "dias_semana_dict = {\n",
    "    0: 'Lunes',\n",
    "    1: 'Martes',\n",
    "    2: 'Miércoles',\n",
    "    3: 'Jueves',\n",
    "    4: 'Viernes',\n",
    "    5: 'Sábado',\n",
    "    6: 'Domingo'\n",
    "}\n",
    "\n",
    "# Crear una nueva columna con el día de la semana en valor de cadena\n",
    "datos_hechos['DIA_SEMANA_STR'] = datos_hechos['DIA_SEMANA_NUM'].map(dias_semana_dict)\n",
    "\n",
    "# Mostrar el DataFrame resultante\n",
    "print(datos_hechos)\n"
   ]
  },
  {
   "cell_type": "markdown",
   "metadata": {},
   "source": [
    "## Dataset 'Victimas'\n",
    "\n",
    "Se realizan los mismos procesos para esta base de datos. "
   ]
  },
  {
   "cell_type": "code",
   "execution_count": 95,
   "metadata": {},
   "outputs": [
    {
     "name": "stdout",
     "output_type": "stream",
     "text": [
      "<class 'pandas.core.frame.DataFrame'>\n",
      "RangeIndex: 717 entries, 0 to 716\n",
      "Data columns (total 10 columns):\n",
      " #   Column               Non-Null Count  Dtype         \n",
      "---  ------               --------------  -----         \n",
      " 0   ID_hecho             717 non-null    object        \n",
      " 1   FECHA                717 non-null    datetime64[ns]\n",
      " 2   AAAA                 717 non-null    int64         \n",
      " 3   MM                   717 non-null    int64         \n",
      " 4   DD                   717 non-null    int64         \n",
      " 5   ROL                  717 non-null    object        \n",
      " 6   VICTIMA              717 non-null    object        \n",
      " 7   SEXO                 717 non-null    object        \n",
      " 8   EDAD                 717 non-null    object        \n",
      " 9   FECHA_FALLECIMIENTO  717 non-null    object        \n",
      "dtypes: datetime64[ns](1), int64(3), object(6)\n",
      "memory usage: 56.1+ KB\n"
     ]
    }
   ],
   "source": [
    "datos_victimas.info()"
   ]
  },
  {
   "cell_type": "code",
   "execution_count": 96,
   "metadata": {},
   "outputs": [],
   "source": [
    "# Lista de columnas a eliminar\n",
    "columnas_a_eliminar = ['FECHA', 'AAAA', 'MM', 'DD', 'VICTIMA']\n",
    "\n",
    "# Eliminar las columnas especificadas\n",
    "datos_victimas = datos_victimas.drop(columnas_a_eliminar, axis=1)"
   ]
  },
  {
   "cell_type": "code",
   "execution_count": 97,
   "metadata": {},
   "outputs": [
    {
     "name": "stdout",
     "output_type": "stream",
     "text": [
      "Valores NaN en las columnas convertidas:\n",
      "EDAD    53\n",
      "dtype: int64\n"
     ]
    }
   ],
   "source": [
    "# Convertir todas las columnas especificadas a tipo numérico\n",
    "columnas_numericas = ['EDAD']\n",
    "datos_victimas[columnas_numericas] = datos_victimas[columnas_numericas].apply(pd.to_numeric, errors='coerce')\n",
    "\n",
    "# Contar los valores NaN en las columnas convertidas\n",
    "valores_nulos = datos_victimas[columnas_numericas].isnull().sum()\n",
    "\n",
    "# Mostrar los valores NaN encontrados en cada columna\n",
    "print(\"Valores NaN en las columnas convertidas:\")\n",
    "print(valores_nulos)"
   ]
  },
  {
   "cell_type": "code",
   "execution_count": 98,
   "metadata": {},
   "outputs": [
    {
     "name": "stdout",
     "output_type": "stream",
     "text": [
      "Valores NaN en las columnas convertidas:\n",
      "68\n"
     ]
    }
   ],
   "source": [
    "# Verificar si los datos en la columna 'FECHA' son todos en formato de fecha\n",
    "datos_victimas['FECHA_FALLECIMIENTO'] = pd.to_datetime(datos_victimas['FECHA_FALLECIMIENTO'], errors='coerce')\n",
    "\n",
    "# Contar los valores NaN en las columnas convertidas\n",
    "valores_nulos = datos_victimas['FECHA_FALLECIMIENTO'].isnull().sum()\n",
    "\n",
    "# Mostrar los valores NaN encontrados en cada columna\n",
    "print(\"Valores NaN en las columnas convertidas:\")\n",
    "print(valores_nulos)"
   ]
  },
  {
   "cell_type": "code",
   "execution_count": 99,
   "metadata": {},
   "outputs": [
    {
     "data": {
      "text/html": [
       "<div>\n",
       "<style scoped>\n",
       "    .dataframe tbody tr th:only-of-type {\n",
       "        vertical-align: middle;\n",
       "    }\n",
       "\n",
       "    .dataframe tbody tr th {\n",
       "        vertical-align: top;\n",
       "    }\n",
       "\n",
       "    .dataframe thead th {\n",
       "        text-align: right;\n",
       "    }\n",
       "</style>\n",
       "<table border=\"1\" class=\"dataframe\">\n",
       "  <thead>\n",
       "    <tr style=\"text-align: right;\">\n",
       "      <th></th>\n",
       "      <th>ID_hecho</th>\n",
       "      <th>ROL</th>\n",
       "      <th>SEXO</th>\n",
       "      <th>EDAD</th>\n",
       "      <th>FECHA_FALLECIMIENTO</th>\n",
       "    </tr>\n",
       "  </thead>\n",
       "  <tbody>\n",
       "    <tr>\n",
       "      <th>0</th>\n",
       "      <td>2016-0001</td>\n",
       "      <td>CONDUCTOR</td>\n",
       "      <td>MASCULINO</td>\n",
       "      <td>19.0</td>\n",
       "      <td>2016-01-01</td>\n",
       "    </tr>\n",
       "    <tr>\n",
       "      <th>1</th>\n",
       "      <td>2016-0002</td>\n",
       "      <td>CONDUCTOR</td>\n",
       "      <td>MASCULINO</td>\n",
       "      <td>70.0</td>\n",
       "      <td>2016-01-02</td>\n",
       "    </tr>\n",
       "    <tr>\n",
       "      <th>2</th>\n",
       "      <td>2016-0003</td>\n",
       "      <td>CONDUCTOR</td>\n",
       "      <td>MASCULINO</td>\n",
       "      <td>30.0</td>\n",
       "      <td>2016-01-03</td>\n",
       "    </tr>\n",
       "    <tr>\n",
       "      <th>3</th>\n",
       "      <td>2016-0004</td>\n",
       "      <td>CONDUCTOR</td>\n",
       "      <td>MASCULINO</td>\n",
       "      <td>18.0</td>\n",
       "      <td>NaT</td>\n",
       "    </tr>\n",
       "    <tr>\n",
       "      <th>4</th>\n",
       "      <td>2016-0005</td>\n",
       "      <td>CONDUCTOR</td>\n",
       "      <td>MASCULINO</td>\n",
       "      <td>29.0</td>\n",
       "      <td>2016-02-01</td>\n",
       "    </tr>\n",
       "  </tbody>\n",
       "</table>\n",
       "</div>"
      ],
      "text/plain": [
       "    ID_hecho        ROL       SEXO  EDAD FECHA_FALLECIMIENTO\n",
       "0  2016-0001  CONDUCTOR  MASCULINO  19.0          2016-01-01\n",
       "1  2016-0002  CONDUCTOR  MASCULINO  70.0          2016-01-02\n",
       "2  2016-0003  CONDUCTOR  MASCULINO  30.0          2016-01-03\n",
       "3  2016-0004  CONDUCTOR  MASCULINO  18.0                 NaT\n",
       "4  2016-0005  CONDUCTOR  MASCULINO  29.0          2016-02-01"
      ]
     },
     "execution_count": 99,
     "metadata": {},
     "output_type": "execute_result"
    }
   ],
   "source": [
    "datos_victimas.head()"
   ]
  },
  {
   "cell_type": "code",
   "execution_count": 100,
   "metadata": {},
   "outputs": [],
   "source": [
    "# Reemplazar los valores 'SD' por NaN en las columnas 'VICTIMA' y 'ACUSADO'\n",
    "datos_victimas['ROL'] = datos_victimas['ROL'].replace('SD', np.nan)\n",
    "datos_victimas['SEXO'] = datos_victimas['SEXO'].replace('SD', np.nan)"
   ]
  },
  {
   "cell_type": "code",
   "execution_count": 101,
   "metadata": {},
   "outputs": [],
   "source": [
    "# Guardo los archivos por separado para trabajarlos en el dashboard\n",
    "\n",
    "datos_hechos.to_csv('_src/data/datos_hechos_v2.csv', index=False)\n",
    "datos_victimas.to_csv('_src/data/datos_victimas_v2.csv', index=False)\n"
   ]
  },
  {
   "cell_type": "markdown",
   "metadata": {},
   "source": [
    "## Union de datasets"
   ]
  },
  {
   "cell_type": "code",
   "execution_count": 102,
   "metadata": {},
   "outputs": [],
   "source": [
    "# Unir los DataFrames por las columnas ID y ID_hecho\n",
    "datos_completos = datos_hechos.merge(datos_victimas, left_on='ID', right_on='ID_hecho', how='left')\n",
    "\n",
    "datos_completos = datos_completos.drop('ID', axis=1)"
   ]
  },
  {
   "cell_type": "code",
   "execution_count": 103,
   "metadata": {},
   "outputs": [],
   "source": [
    "# Renombrar las columnas \n",
    "datos_completos = datos_completos.rename(columns={'ID_hecho': 'ID_HECHO', 'Calle': 'CALLE', 'Dirección Normalizada': 'DIRE_NOR', 'pos x': 'POSX', 'pos y': 'POSY'})\n"
   ]
  },
  {
   "cell_type": "code",
   "execution_count": 104,
   "metadata": {},
   "outputs": [
    {
     "name": "stdout",
     "output_type": "stream",
     "text": [
      "<class 'pandas.core.frame.DataFrame'>\n",
      "RangeIndex: 717 entries, 0 to 716\n",
      "Data columns (total 23 columns):\n",
      " #   Column               Non-Null Count  Dtype         \n",
      "---  ------               --------------  -----         \n",
      " 0   N_VICTIMAS           717 non-null    int64         \n",
      " 1   FECHA                717 non-null    datetime64[ns]\n",
      " 2   AAAA                 717 non-null    int64         \n",
      " 3   MM                   717 non-null    int64         \n",
      " 4   DD                   717 non-null    int64         \n",
      " 5   HH                   716 non-null    float64       \n",
      " 6   TIPO_DE_CALLE        717 non-null    object        \n",
      " 7   CALLE                716 non-null    object        \n",
      " 8   DIRE_NOR             708 non-null    object        \n",
      " 9   COMUNA               715 non-null    float64       \n",
      " 10  POSX                 704 non-null    float64       \n",
      " 11  POSY                 704 non-null    float64       \n",
      " 12  VICTIMA              708 non-null    object        \n",
      " 13  ACUSADO              694 non-null    object        \n",
      " 14  COMUNA_NOMBRE        715 non-null    object        \n",
      " 15  COMUNA_POB           715 non-null    float64       \n",
      " 16  DIA_SEMANA_NUM       717 non-null    int32         \n",
      " 17  DIA_SEMANA_STR       717 non-null    object        \n",
      " 18  ID_HECHO             717 non-null    object        \n",
      " 19  ROL                  709 non-null    object        \n",
      " 20  SEXO                 711 non-null    object        \n",
      " 21  EDAD                 664 non-null    float64       \n",
      " 22  FECHA_FALLECIMIENTO  649 non-null    datetime64[ns]\n",
      "dtypes: datetime64[ns](2), float64(6), int32(1), int64(4), object(10)\n",
      "memory usage: 126.2+ KB\n"
     ]
    }
   ],
   "source": [
    "datos_completos.info()"
   ]
  },
  {
   "cell_type": "code",
   "execution_count": 105,
   "metadata": {},
   "outputs": [],
   "source": [
    "# Ordenar las columnas\n",
    "columnas_ordenadas = ['ID_HECHO', 'FECHA', 'AAAA', 'MM', 'DD', 'HH', 'DIA_SEMANA_NUM', 'DIA_SEMANA_STR', 'N_VICTIMAS', 'ACUSADO', 'VICTIMA', 'ROL', 'SEXO', 'EDAD', 'FECHA_FALLECIMIENTO', 'COMUNA', 'COMUNA_NOMBRE','COMUNA_POB','TIPO_DE_CALLE', 'CALLE', 'DIRE_NOR', 'POSX', 'POSY']\n",
    "\n",
    "# Seleccionar y ordenar las columnas en el DataFrame\n",
    "datos_completos = datos_completos[columnas_ordenadas]"
   ]
  },
  {
   "cell_type": "code",
   "execution_count": 106,
   "metadata": {},
   "outputs": [
    {
     "data": {
      "text/html": [
       "<div>\n",
       "<style scoped>\n",
       "    .dataframe tbody tr th:only-of-type {\n",
       "        vertical-align: middle;\n",
       "    }\n",
       "\n",
       "    .dataframe tbody tr th {\n",
       "        vertical-align: top;\n",
       "    }\n",
       "\n",
       "    .dataframe thead th {\n",
       "        text-align: right;\n",
       "    }\n",
       "</style>\n",
       "<table border=\"1\" class=\"dataframe\">\n",
       "  <thead>\n",
       "    <tr style=\"text-align: right;\">\n",
       "      <th></th>\n",
       "      <th>ID_HECHO</th>\n",
       "      <th>FECHA</th>\n",
       "      <th>AAAA</th>\n",
       "      <th>MM</th>\n",
       "      <th>DD</th>\n",
       "      <th>HH</th>\n",
       "      <th>DIA_SEMANA_NUM</th>\n",
       "      <th>DIA_SEMANA_STR</th>\n",
       "      <th>N_VICTIMAS</th>\n",
       "      <th>ACUSADO</th>\n",
       "      <th>...</th>\n",
       "      <th>EDAD</th>\n",
       "      <th>FECHA_FALLECIMIENTO</th>\n",
       "      <th>COMUNA</th>\n",
       "      <th>COMUNA_NOMBRE</th>\n",
       "      <th>COMUNA_POB</th>\n",
       "      <th>TIPO_DE_CALLE</th>\n",
       "      <th>CALLE</th>\n",
       "      <th>DIRE_NOR</th>\n",
       "      <th>POSX</th>\n",
       "      <th>POSY</th>\n",
       "    </tr>\n",
       "  </thead>\n",
       "  <tbody>\n",
       "    <tr>\n",
       "      <th>0</th>\n",
       "      <td>2016-0001</td>\n",
       "      <td>2016-01-01</td>\n",
       "      <td>2016</td>\n",
       "      <td>1</td>\n",
       "      <td>1</td>\n",
       "      <td>4.0</td>\n",
       "      <td>4</td>\n",
       "      <td>Viernes</td>\n",
       "      <td>1</td>\n",
       "      <td>AUTO</td>\n",
       "      <td>...</td>\n",
       "      <td>19.0</td>\n",
       "      <td>2016-01-01</td>\n",
       "      <td>8.0</td>\n",
       "      <td>Villa Soldati, Villa Riachuelo, Villa Lugano</td>\n",
       "      <td>204842.0</td>\n",
       "      <td>AVENIDA</td>\n",
       "      <td>PIEDRA BUENA AV.</td>\n",
       "      <td>PIEDRA BUENA AV. y FERNANDEZ DE LA CRUZ, F., G...</td>\n",
       "      <td>-58.475340</td>\n",
       "      <td>-34.687570</td>\n",
       "    </tr>\n",
       "    <tr>\n",
       "      <th>1</th>\n",
       "      <td>2016-0002</td>\n",
       "      <td>2016-01-02</td>\n",
       "      <td>2016</td>\n",
       "      <td>1</td>\n",
       "      <td>2</td>\n",
       "      <td>1.0</td>\n",
       "      <td>5</td>\n",
       "      <td>Sábado</td>\n",
       "      <td>1</td>\n",
       "      <td>PASAJEROS</td>\n",
       "      <td>...</td>\n",
       "      <td>70.0</td>\n",
       "      <td>2016-01-02</td>\n",
       "      <td>9.0</td>\n",
       "      <td>Liniers, Mataderos, Parque Avellaneda</td>\n",
       "      <td>169538.0</td>\n",
       "      <td>GRAL PAZ</td>\n",
       "      <td>PAZ, GRAL. AV.</td>\n",
       "      <td>PAZ, GRAL. AV. y DE LOS CORRALES AV.</td>\n",
       "      <td>-58.508775</td>\n",
       "      <td>-34.669777</td>\n",
       "    </tr>\n",
       "    <tr>\n",
       "      <th>2</th>\n",
       "      <td>2016-0003</td>\n",
       "      <td>2016-01-03</td>\n",
       "      <td>2016</td>\n",
       "      <td>1</td>\n",
       "      <td>3</td>\n",
       "      <td>7.0</td>\n",
       "      <td>6</td>\n",
       "      <td>Domingo</td>\n",
       "      <td>1</td>\n",
       "      <td>AUTO</td>\n",
       "      <td>...</td>\n",
       "      <td>30.0</td>\n",
       "      <td>2016-01-03</td>\n",
       "      <td>1.0</td>\n",
       "      <td>Retiro, San Nicolás, Puerto Madero, San Telmo,...</td>\n",
       "      <td>223282.0</td>\n",
       "      <td>AVENIDA</td>\n",
       "      <td>ENTRE RIOS AV.</td>\n",
       "      <td>ENTRE RIOS AV. 2034</td>\n",
       "      <td>-58.390403</td>\n",
       "      <td>-34.631894</td>\n",
       "    </tr>\n",
       "    <tr>\n",
       "      <th>3</th>\n",
       "      <td>2016-0004</td>\n",
       "      <td>2016-01-10</td>\n",
       "      <td>2016</td>\n",
       "      <td>1</td>\n",
       "      <td>10</td>\n",
       "      <td>0.0</td>\n",
       "      <td>6</td>\n",
       "      <td>Domingo</td>\n",
       "      <td>1</td>\n",
       "      <td>NaN</td>\n",
       "      <td>...</td>\n",
       "      <td>18.0</td>\n",
       "      <td>NaT</td>\n",
       "      <td>8.0</td>\n",
       "      <td>Villa Soldati, Villa Riachuelo, Villa Lugano</td>\n",
       "      <td>204842.0</td>\n",
       "      <td>AVENIDA</td>\n",
       "      <td>LARRAZABAL AV.</td>\n",
       "      <td>LARRAZABAL AV. y VILLEGAS, CONRADO, GRAL.</td>\n",
       "      <td>-58.465039</td>\n",
       "      <td>-34.680930</td>\n",
       "    </tr>\n",
       "    <tr>\n",
       "      <th>4</th>\n",
       "      <td>2016-0005</td>\n",
       "      <td>2016-01-21</td>\n",
       "      <td>2016</td>\n",
       "      <td>1</td>\n",
       "      <td>21</td>\n",
       "      <td>5.0</td>\n",
       "      <td>3</td>\n",
       "      <td>Jueves</td>\n",
       "      <td>1</td>\n",
       "      <td>PASAJEROS</td>\n",
       "      <td>...</td>\n",
       "      <td>29.0</td>\n",
       "      <td>2016-02-01</td>\n",
       "      <td>1.0</td>\n",
       "      <td>Retiro, San Nicolás, Puerto Madero, San Telmo,...</td>\n",
       "      <td>223282.0</td>\n",
       "      <td>AVENIDA</td>\n",
       "      <td>SAN JUAN AV.</td>\n",
       "      <td>SAN JUAN AV. y SAENZ PEÃ‘A, LUIS, PRES.</td>\n",
       "      <td>-58.387183</td>\n",
       "      <td>-34.622466</td>\n",
       "    </tr>\n",
       "  </tbody>\n",
       "</table>\n",
       "<p>5 rows × 23 columns</p>\n",
       "</div>"
      ],
      "text/plain": [
       "    ID_HECHO      FECHA  AAAA  MM  DD   HH  DIA_SEMANA_NUM DIA_SEMANA_STR  \\\n",
       "0  2016-0001 2016-01-01  2016   1   1  4.0               4        Viernes   \n",
       "1  2016-0002 2016-01-02  2016   1   2  1.0               5         Sábado   \n",
       "2  2016-0003 2016-01-03  2016   1   3  7.0               6        Domingo   \n",
       "3  2016-0004 2016-01-10  2016   1  10  0.0               6        Domingo   \n",
       "4  2016-0005 2016-01-21  2016   1  21  5.0               3         Jueves   \n",
       "\n",
       "   N_VICTIMAS    ACUSADO  ...  EDAD FECHA_FALLECIMIENTO COMUNA  \\\n",
       "0           1       AUTO  ...  19.0          2016-01-01    8.0   \n",
       "1           1  PASAJEROS  ...  70.0          2016-01-02    9.0   \n",
       "2           1       AUTO  ...  30.0          2016-01-03    1.0   \n",
       "3           1        NaN  ...  18.0                 NaT    8.0   \n",
       "4           1  PASAJEROS  ...  29.0          2016-02-01    1.0   \n",
       "\n",
       "                                       COMUNA_NOMBRE COMUNA_POB  \\\n",
       "0       Villa Soldati, Villa Riachuelo, Villa Lugano   204842.0   \n",
       "1              Liniers, Mataderos, Parque Avellaneda   169538.0   \n",
       "2  Retiro, San Nicolás, Puerto Madero, San Telmo,...   223282.0   \n",
       "3       Villa Soldati, Villa Riachuelo, Villa Lugano   204842.0   \n",
       "4  Retiro, San Nicolás, Puerto Madero, San Telmo,...   223282.0   \n",
       "\n",
       "   TIPO_DE_CALLE             CALLE  \\\n",
       "0        AVENIDA  PIEDRA BUENA AV.   \n",
       "1       GRAL PAZ    PAZ, GRAL. AV.   \n",
       "2        AVENIDA    ENTRE RIOS AV.   \n",
       "3        AVENIDA    LARRAZABAL AV.   \n",
       "4        AVENIDA      SAN JUAN AV.   \n",
       "\n",
       "                                            DIRE_NOR       POSX       POSY  \n",
       "0  PIEDRA BUENA AV. y FERNANDEZ DE LA CRUZ, F., G... -58.475340 -34.687570  \n",
       "1               PAZ, GRAL. AV. y DE LOS CORRALES AV. -58.508775 -34.669777  \n",
       "2                                ENTRE RIOS AV. 2034 -58.390403 -34.631894  \n",
       "3          LARRAZABAL AV. y VILLEGAS, CONRADO, GRAL. -58.465039 -34.680930  \n",
       "4            SAN JUAN AV. y SAENZ PEÃ‘A, LUIS, PRES. -58.387183 -34.622466  \n",
       "\n",
       "[5 rows x 23 columns]"
      ]
     },
     "execution_count": 106,
     "metadata": {},
     "output_type": "execute_result"
    }
   ],
   "source": [
    "datos_completos.head()"
   ]
  },
  {
   "cell_type": "code",
   "execution_count": 107,
   "metadata": {},
   "outputs": [],
   "source": [
    "# Guardar el DataFrame en un archivo CSV\n",
    "datos_completos.to_csv('_src/data/datos_completos.csv', index=False)\n"
   ]
  }
 ],
 "metadata": {
  "kernelspec": {
   "display_name": "Python 3",
   "language": "python",
   "name": "python3"
  },
  "language_info": {
   "codemirror_mode": {
    "name": "ipython",
    "version": 3
   },
   "file_extension": ".py",
   "mimetype": "text/x-python",
   "name": "python",
   "nbconvert_exporter": "python",
   "pygments_lexer": "ipython3",
   "version": "3.11.4"
  }
 },
 "nbformat": 4,
 "nbformat_minor": 2
}
